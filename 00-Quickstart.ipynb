{
 "cells": [
  {
   "cell_type": "markdown",
   "id": "9e042c8a-5b3b-470a-ae7b-49d35de71e7b",
   "metadata": {},
   "source": [
    "[Tutorial Link](https://pytorch.org/tutorials/beginner/basics/quickstart_tutorial.html)\n",
    "\n",
    "Key takeaways:\n",
    "\n",
    "* Dealing with data\n",
    "  * `Dataset` stores the data.\n",
    "  * `DataLoader` is an iterator to `Dataset`."
   ]
  },
  {
   "cell_type": "code",
   "execution_count": 1,
   "id": "c6650dba-59f3-49e4-b9df-42c6cb81446a",
   "metadata": {},
   "outputs": [],
   "source": [
    "import torch\n",
    "from torch import nn\n",
    "from torch.utils.data import DataLoader\n",
    "from torchvision import datasets\n",
    "from torchvision.transforms import ToTensor, Lambda, Compose\n",
    "import matplotlib.pyplot as plt"
   ]
  },
  {
   "cell_type": "markdown",
   "id": "d8d30507-1f76-4c4a-acf7-7028c2a0cfdf",
   "metadata": {},
   "source": [
    "# Preparing Dataset"
   ]
  },
  {
   "cell_type": "code",
   "execution_count": 2,
   "id": "7e2d59f7-59c3-4595-9a84-1f9f2f88157a",
   "metadata": {},
   "outputs": [],
   "source": [
    "# Download training data from open datasets.\n",
    "training_data = datasets.FashionMNIST(\n",
    "    root=\"data\",\n",
    "    train=True,\n",
    "    download=True,\n",
    "    transform=ToTensor(),\n",
    ")\n",
    "\n",
    "# Download test data from open datasets.\n",
    "test_data = datasets.FashionMNIST(\n",
    "    root=\"data\",\n",
    "    train=False,\n",
    "    download=True,\n",
    "    transform=ToTensor(),\n",
    ")"
   ]
  },
  {
   "cell_type": "code",
   "execution_count": 3,
   "id": "c764e19c-8871-41cf-b28e-417a22f7724b",
   "metadata": {},
   "outputs": [
    {
     "name": "stdout",
     "output_type": "stream",
     "text": [
      "Shape of X [N, C, H, W]:  torch.Size([64, 1, 28, 28])\n",
      "Shape of y:  torch.Size([64]) torch.int64\n"
     ]
    }
   ],
   "source": [
    "batch_size = 64\n",
    "\n",
    "# Create data loaders.\n",
    "train_dataloader = DataLoader(training_data, batch_size=batch_size)\n",
    "test_dataloader = DataLoader(test_data, batch_size=batch_size)\n",
    "\n",
    "for X, y in test_dataloader:\n",
    "    print(\"Shape of X [N, C, H, W]: \", X.shape)\n",
    "    print(\"Shape of y: \", y.shape, y.dtype)\n",
    "    break"
   ]
  },
  {
   "cell_type": "markdown",
   "id": "78f460db-6a0f-4c36-8f60-63e2bb7f7f47",
   "metadata": {},
   "source": [
    "# Creating Model"
   ]
  },
  {
   "cell_type": "code",
   "execution_count": 4,
   "id": "aa49cc59-1343-4949-a7f2-a6559694d578",
   "metadata": {},
   "outputs": [
    {
     "name": "stdout",
     "output_type": "stream",
     "text": [
      "Using cuda device\n",
      "NeuralNetwork(\n",
      "  (flatten): Flatten(start_dim=1, end_dim=-1)\n",
      "  (linear_relu_stack): Sequential(\n",
      "    (0): Linear(in_features=784, out_features=512, bias=True)\n",
      "    (1): ReLU()\n",
      "    (2): Linear(in_features=512, out_features=512, bias=True)\n",
      "    (3): ReLU()\n",
      "    (4): Linear(in_features=512, out_features=10, bias=True)\n",
      "  )\n",
      ")\n"
     ]
    }
   ],
   "source": [
    "# Get cpu or gpu device for training.\n",
    "device = \"cuda\" if torch.cuda.is_available() else \"cpu\"\n",
    "print(f\"Using {device} device\")\n",
    "\n",
    "# Define model\n",
    "class NeuralNetwork(nn.Module):\n",
    "    def __init__(self):\n",
    "        super(NeuralNetwork, self).__init__()\n",
    "        self.flatten = nn.Flatten()\n",
    "        self.linear_relu_stack = nn.Sequential(\n",
    "            nn.Linear(28*28, 512),\n",
    "            nn.ReLU(),\n",
    "            nn.Linear(512, 512),\n",
    "            nn.ReLU(),\n",
    "            nn.Linear(512, 10)\n",
    "        )\n",
    "\n",
    "    def forward(self, x):\n",
    "        x = self.flatten(x)\n",
    "        logits = self.linear_relu_stack(x)\n",
    "        return logits\n",
    "\n",
    "model = NeuralNetwork().to(device)\n",
    "print(model)"
   ]
  },
  {
   "cell_type": "markdown",
   "id": "e460931a-9b2d-4b54-ab76-6ecc4f4457aa",
   "metadata": {},
   "source": [
    "# Parameter Optimization"
   ]
  },
  {
   "cell_type": "code",
   "execution_count": 5,
   "id": "0bfc33e7-e02a-4bc6-b902-5e16cdbb4e39",
   "metadata": {},
   "outputs": [],
   "source": [
    "loss_fn = nn.CrossEntropyLoss()\n",
    "optimizer = torch.optim.SGD(model.parameters(), lr=1e-3)"
   ]
  },
  {
   "cell_type": "code",
   "execution_count": 6,
   "id": "d1e51d01-b8ba-4bd7-878d-3196c484057b",
   "metadata": {},
   "outputs": [],
   "source": [
    "def train(dataloader, model, loss_fn, optimizer):\n",
    "    size = len(dataloader.dataset)\n",
    "    model.train()\n",
    "    for batch, (X, y) in enumerate(dataloader):\n",
    "        X, y = X.to(device), y.to(device)\n",
    "\n",
    "        # Compute prediction error\n",
    "        pred = model(X)\n",
    "        loss = loss_fn(pred, y)\n",
    "\n",
    "        # Backpropagation\n",
    "        optimizer.zero_grad()\n",
    "        loss.backward()\n",
    "        optimizer.step()\n",
    "\n",
    "        if batch % 100 == 0:\n",
    "            loss, current = loss.item(), batch * len(X)\n",
    "            print(f\"loss: {loss:>7f}  [{current:>5d}/{size:>5d}]\")"
   ]
  },
  {
   "cell_type": "code",
   "execution_count": 8,
   "id": "1b54cdd4-2523-48af-b58d-422c3ebe8474",
   "metadata": {},
   "outputs": [],
   "source": [
    "def test(dataloader, model, loss_fn):\n",
    "    size = len(dataloader.dataset)\n",
    "    num_batches = len(dataloader)\n",
    "    model.eval()\n",
    "    test_loss, correct = 0, 0\n",
    "    with torch.no_grad():\n",
    "        for X, y in dataloader:\n",
    "            X, y = X.to(device), y.to(device)\n",
    "            pred = model(X)\n",
    "            test_loss += loss_fn(pred, y).item()\n",
    "            correct += (pred.argmax(1) == y).type(torch.float).sum().item()\n",
    "    test_loss /= num_batches\n",
    "    correct /= size\n",
    "    print(f\"Test Error: \\n Accuracy: {(100*correct):>0.1f}%, Avg loss: {test_loss:>8f} \\n\")"
   ]
  },
  {
   "cell_type": "code",
   "execution_count": 9,
   "id": "a8259684-e070-4d2a-af08-31d9227b337c",
   "metadata": {},
   "outputs": [
    {
     "name": "stdout",
     "output_type": "stream",
     "text": [
      "Epoch 1\n",
      "-------------------------------\n",
      "loss: 2.164352  [    0/60000]\n",
      "loss: 2.152541  [ 6400/60000]\n",
      "loss: 2.099727  [12800/60000]\n",
      "loss: 2.121466  [19200/60000]\n",
      "loss: 2.065910  [25600/60000]\n",
      "loss: 2.010790  [32000/60000]\n",
      "loss: 2.027633  [38400/60000]\n",
      "loss: 1.967162  [44800/60000]\n",
      "loss: 1.970428  [51200/60000]\n",
      "loss: 1.883911  [57600/60000]\n",
      "Test Error: \n",
      " Accuracy: 56.4%, Avg loss: 1.890898 \n",
      "\n",
      "Epoch 2\n",
      "-------------------------------\n",
      "loss: 1.925435  [    0/60000]\n",
      "loss: 1.886034  [ 6400/60000]\n",
      "loss: 1.780212  [12800/60000]\n",
      "loss: 1.821574  [19200/60000]\n",
      "loss: 1.705724  [25600/60000]\n",
      "loss: 1.664830  [32000/60000]\n",
      "loss: 1.674037  [38400/60000]\n",
      "loss: 1.597672  [44800/60000]\n",
      "loss: 1.609871  [51200/60000]\n",
      "loss: 1.495650  [57600/60000]\n",
      "Test Error: \n",
      " Accuracy: 59.1%, Avg loss: 1.519678 \n",
      "\n",
      "Epoch 3\n",
      "-------------------------------\n",
      "loss: 1.589267  [    0/60000]\n",
      "loss: 1.541510  [ 6400/60000]\n",
      "loss: 1.405816  [12800/60000]\n",
      "loss: 1.476882  [19200/60000]\n",
      "loss: 1.352687  [25600/60000]\n",
      "loss: 1.356438  [32000/60000]\n",
      "loss: 1.360028  [38400/60000]\n",
      "loss: 1.304083  [44800/60000]\n",
      "loss: 1.326740  [51200/60000]\n",
      "loss: 1.229414  [57600/60000]\n",
      "Test Error: \n",
      " Accuracy: 62.7%, Avg loss: 1.251447 \n",
      "\n",
      "Epoch 4\n",
      "-------------------------------\n",
      "loss: 1.331617  [    0/60000]\n",
      "loss: 1.301516  [ 6400/60000]\n",
      "loss: 1.146923  [12800/60000]\n",
      "loss: 1.255916  [19200/60000]\n",
      "loss: 1.123969  [25600/60000]\n",
      "loss: 1.154774  [32000/60000]\n",
      "loss: 1.170741  [38400/60000]\n",
      "loss: 1.121409  [44800/60000]\n",
      "loss: 1.152881  [51200/60000]\n",
      "loss: 1.077569  [57600/60000]\n",
      "Test Error: \n",
      " Accuracy: 64.8%, Avg loss: 1.087890 \n",
      "\n",
      "Epoch 5\n",
      "-------------------------------\n",
      "loss: 1.162674  [    0/60000]\n",
      "loss: 1.153590  [ 6400/60000]\n",
      "loss: 0.979174  [12800/60000]\n",
      "loss: 1.120807  [19200/60000]\n",
      "loss: 0.984698  [25600/60000]\n",
      "loss: 1.022016  [32000/60000]\n",
      "loss: 1.056907  [38400/60000]\n",
      "loss: 1.006860  [44800/60000]\n",
      "loss: 1.040784  [51200/60000]\n",
      "loss: 0.983756  [57600/60000]\n",
      "Test Error: \n",
      " Accuracy: 66.0%, Avg loss: 0.983425 \n",
      "\n",
      "Done!\n"
     ]
    }
   ],
   "source": [
    "epochs = 5\n",
    "for t in range(epochs):\n",
    "    print(f\"Epoch {t+1}\\n-------------------------------\")\n",
    "    train(train_dataloader, model, loss_fn, optimizer)\n",
    "    test(test_dataloader, model, loss_fn)\n",
    "print(\"Done!\")"
   ]
  },
  {
   "cell_type": "markdown",
   "id": "42219fea-a4a6-4da0-b97f-9ecb118b813d",
   "metadata": {},
   "source": [
    "# Saving/Loading model"
   ]
  },
  {
   "cell_type": "code",
   "execution_count": 15,
   "id": "f79d2bfa-e299-43a3-b251-730c221c529e",
   "metadata": {},
   "outputs": [
    {
     "name": "stdout",
     "output_type": "stream",
     "text": [
      "Saved PyTorch Model State to model.pth\n"
     ]
    }
   ],
   "source": [
    "# Saving the model\n",
    "torch.save(model.state_dict(), \"model/00.pth\")\n",
    "print(\"Saved PyTorch Model State to model.pth\")"
   ]
  },
  {
   "cell_type": "code",
   "execution_count": 16,
   "id": "d3b4253d-dca7-483b-adc8-656344edcef8",
   "metadata": {},
   "outputs": [
    {
     "data": {
      "text/plain": [
       "<All keys matched successfully>"
      ]
     },
     "execution_count": 16,
     "metadata": {},
     "output_type": "execute_result"
    }
   ],
   "source": [
    "# Loading models\n",
    "model = NeuralNetwork()\n",
    "model.load_state_dict(torch.load(\"model/00.pth\"))"
   ]
  },
  {
   "cell_type": "markdown",
   "id": "98e637c8-bf93-46db-bb54-1c8c2c6f71a3",
   "metadata": {},
   "source": [
    "# Predictions"
   ]
  },
  {
   "cell_type": "code",
   "execution_count": 17,
   "id": "159da197-770b-4679-98f4-8c856b81b2d8",
   "metadata": {},
   "outputs": [
    {
     "name": "stdout",
     "output_type": "stream",
     "text": [
      "Predicted: \"Ankle boot\", Actual: \"Ankle boot\"\n"
     ]
    }
   ],
   "source": [
    "classes = [\n",
    "    \"T-shirt/top\",\n",
    "    \"Trouser\",\n",
    "    \"Pullover\",\n",
    "    \"Dress\",\n",
    "    \"Coat\",\n",
    "    \"Sandal\",\n",
    "    \"Shirt\",\n",
    "    \"Sneaker\",\n",
    "    \"Bag\",\n",
    "    \"Ankle boot\",\n",
    "]\n",
    "\n",
    "model.eval()\n",
    "x, y = test_data[0][0], test_data[0][1]\n",
    "with torch.no_grad():\n",
    "    pred = model(x)\n",
    "    predicted, actual = classes[pred[0].argmax(0)], classes[y]\n",
    "    print(f'Predicted: \"{predicted}\", Actual: \"{actual}\"')"
   ]
  }
 ],
 "metadata": {
  "kernelspec": {
   "display_name": "Python 3",
   "language": "python",
   "name": "python3"
  },
  "language_info": {
   "codemirror_mode": {
    "name": "ipython",
    "version": 3
   },
   "file_extension": ".py",
   "mimetype": "text/x-python",
   "name": "python",
   "nbconvert_exporter": "python",
   "pygments_lexer": "ipython3",
   "version": "3.9.10"
  }
 },
 "nbformat": 4,
 "nbformat_minor": 5
}
